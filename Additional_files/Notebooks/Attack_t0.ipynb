{
 "cells": [
  {
   "cell_type": "markdown",
   "id": "b2436df4-62fc-403d-a41e-5c789708c263",
   "metadata": {},
   "source": [
    "# Uncompressing Dilithium's public key\n",
    "-------------------------"
   ]
  },
  {
   "cell_type": "markdown",
   "id": "f97e2bf7-0de6-4914-ac06-8ce05190bd78",
   "metadata": {},
   "source": [
    "## Preliminaries"
   ]
  },
  {
   "cell_type": "markdown",
   "id": "d5f03626",
   "metadata": {},
   "source": [
    "### Libraries and functions used"
   ]
  },
  {
   "cell_type": "code",
   "execution_count": null,
   "id": "3af78058",
   "metadata": {},
   "outputs": [],
   "source": [
    "# Loading the functions used for the attack\n",
    "%run -i ../Helper_functions.py"
   ]
  },
  {
   "cell_type": "code",
   "execution_count": null,
   "id": "2f9fb43a",
   "metadata": {},
   "outputs": [],
   "source": [
    "# Importing useful libraries\n",
    "import time\n",
    "\n",
    "from collections import Counter\n",
    "\n",
    "# Only to display markdown tables\n",
    "from IPython.display import display, Markdown, Latex"
   ]
  },
  {
   "cell_type": "markdown",
   "id": "2acfbf55",
   "metadata": {},
   "source": [
    "### Compiling the codes"
   ]
  },
  {
   "cell_type": "markdown",
   "id": "8eaadd71",
   "metadata": {},
   "source": [
    "If necessary we can produce the NIST KATs.  \n",
    "These keys will be used for the attack.  \n",
    "Alternatively you can use those provided in the folder `../nistkat/`."
   ]
  },
  {
   "cell_type": "code",
   "execution_count": null,
   "id": "7bdb1016",
   "metadata": {},
   "outputs": [],
   "source": [
    "# Path to Dilithium code\n",
    "path_to_dilithium = f\"../../dilithium/ref/\""
   ]
  },
  {
   "cell_type": "code",
   "execution_count": null,
   "id": "bdc7d3de",
   "metadata": {},
   "outputs": [],
   "source": [
    "# Rule to make the NIST KAT file\n",
    "nistkat_rule = f\"nistkat/PQCgenKAT_sign{dilithium.MODE}\""
   ]
  },
  {
   "cell_type": "code",
   "execution_count": null,
   "id": "5f095ab3",
   "metadata": {},
   "outputs": [],
   "source": [
    "%%bash -s \"$path_to_dilithium\" \"$nistkat_rule\"\n",
    "cd $1\n",
    "make $2\n",
    "./$2"
   ]
  },
  {
   "cell_type": "markdown",
   "id": "9729d4c4",
   "metadata": {},
   "source": [
    "We compile the code used to generate the desired number of random signatures for a given key.  \n",
    "Later we can execute it like this:\n",
    "```bash\n",
    "./sign_rdm_msg_and_save2 0 10000\n",
    "```\n",
    "Here, we produced 10000 signatures for the key 0 of the KAT of Dilithium2."
   ]
  },
  {
   "cell_type": "code",
   "execution_count": null,
   "id": "07459c8f",
   "metadata": {},
   "outputs": [],
   "source": [
    "# Path to where the added functions are\n",
    "path_to_c = f\"../C_functions/\""
   ]
  },
  {
   "cell_type": "code",
   "execution_count": null,
   "id": "3665acc0",
   "metadata": {},
   "outputs": [],
   "source": [
    "# Rule to make the script that signs random messages and saves them \n",
    "sign_rule = f\"sign_rdm_msg_and_save{dilithium.MODE}\""
   ]
  },
  {
   "cell_type": "markdown",
   "id": "dd7ad274-1344-46fc-ae80-024a30cc3158",
   "metadata": {},
   "source": [
    "Some Warnings may appear."
   ]
  },
  {
   "cell_type": "code",
   "execution_count": null,
   "id": "7a45ca7b",
   "metadata": {},
   "outputs": [],
   "source": [
    "%%bash -s \"$path_to_c\" \"$sign_rule\"\n",
    "cd $1\n",
    "make $2"
   ]
  },
  {
   "cell_type": "markdown",
   "id": "b98d5c23",
   "metadata": {},
   "source": [
    "We compile the code used to formulate and solve LP instances.  \n",
    "Later we can execute it like this:\n",
    "```bash\n",
    "./build_solve_t0_lp2 0 10000 100\n",
    "```\n",
    "Here we formulated an LP problem with 10000 inequalities for the key 0 of the KAT of Dilithium2 with a radius C=100."
   ]
  },
  {
   "cell_type": "code",
   "execution_count": null,
   "id": "97077440",
   "metadata": {},
   "outputs": [],
   "source": [
    "# Path to where the lpsolve55 lib is located\n",
    "# by default should be:\n",
    "lplib_path = f\"../..\"\n",
    "\n",
    "# # if different installation, enter your own:\n",
    "# lplib_path = "
   ]
  },
  {
   "cell_type": "code",
   "execution_count": null,
   "id": "533e9af0",
   "metadata": {},
   "outputs": [],
   "source": [
    "# Rule to make the script that builds and solves the LP instances \n",
    "atk_rule   = f\"build_solve_t0_lp{dilithium.MODE}\""
   ]
  },
  {
   "cell_type": "markdown",
   "id": "1596bfa8-1873-4797-876a-289d5cef42c9",
   "metadata": {},
   "source": [
    "Some Warnings may appear."
   ]
  },
  {
   "cell_type": "code",
   "execution_count": null,
   "id": "170643db",
   "metadata": {},
   "outputs": [],
   "source": [
    "%%bash -s \"$path_to_c\" \"$atk_rule\" \"$lplib_path\"\n",
    "cd $1\n",
    "make LPLIB_PATH=$3 $2"
   ]
  },
  {
   "cell_type": "markdown",
   "id": "d7e71152",
   "metadata": {},
   "source": [
    "## Main Attack"
   ]
  },
  {
   "cell_type": "markdown",
   "id": "302b59bd",
   "metadata": {},
   "source": [
    "### Parameters setup"
   ]
  },
  {
   "cell_type": "code",
   "execution_count": null,
   "id": "8c108d83-7c60-4f00-92ba-e922b24a30ed",
   "metadata": {},
   "outputs": [],
   "source": [
    "# The number of keys to target from a 'NIST KAT' file\n",
    "# by default 1 <= NB_Keys_tested <= 100\n",
    "NB_Keys_tested = 1\n",
    "\n",
    "# Set this option to True if the sk is included\n",
    "known_sk = True"
   ]
  },
  {
   "cell_type": "code",
   "execution_count": null,
   "id": "1add24c8-8622-4567-99fd-3e985812737b",
   "metadata": {},
   "outputs": [],
   "source": [
    "# Store the NB_Keys_tested targeted\n",
    "keys_file_path = f'{path_to_dilithium}PQCsignKAT_Dilithium{dilithium.MODE}.rsp'\n",
    "if known_sk:\n",
    "    PK, SK = open_keys(NB_Keys_tested, \n",
    "                       include_sk = known_sk,\n",
    "                       keys_file_name = keys_file_path)\n",
    "else:\n",
    "    PK = open_keys(NB_Keys_tested, \n",
    "                   include_sk = known_sk,\n",
    "                   keys_file_name = keys_file_path)"
   ]
  },
  {
   "cell_type": "code",
   "execution_count": null,
   "id": "81218ff6",
   "metadata": {},
   "outputs": [],
   "source": [
    "# If we want to collect signatures\n",
    "Collect_signs = True\n",
    "\n",
    "# Set the number of signatures to generate\n",
    "Nb_signs = 300000"
   ]
  },
  {
   "cell_type": "markdown",
   "id": "7f21975f",
   "metadata": {},
   "source": [
    "### Sub-function to generate useful inequations and solve corresponding LP"
   ]
  },
  {
   "cell_type": "code",
   "execution_count": null,
   "id": "4be6d760",
   "metadata": {},
   "outputs": [],
   "source": [
    "def build_solve_lp(process_, key_index, nb_ineq, *args):\n",
    "    \"\"\"\n",
    "    This function calls the C executable that builds and solves the LP problem with the corresponding parameters\n",
    "  \n",
    "    Parameters\n",
    "    ----------\n",
    "    process_     str: The executable, here build_solve_t0_lp{dilithium.MODE}\n",
    "    key_index    int: The key targeted \n",
    "    nb_ineq      int: Number of inequations to collect \n",
    "    C_low        int: optionnal if the interval is not centered in 0\n",
    "    C            int: radius     \n",
    "    \n",
    "    Returns\n",
    "    ----------\n",
    "    output list(str): Output from the executable  \n",
    "    \"\"\"\n",
    "\n",
    "    # Difference between first non-centered radius and the others\n",
    "    if len(args) == 1:\n",
    "        C = args[0]\n",
    "    elif len(args) == 2:\n",
    "        C_low = args[0]\n",
    "        C_up  = args[1]\n",
    "        C = C_up\n",
    "    else:\n",
    "        raise ValueError(\"Too many C, either one or two\")\n",
    "        \n",
    "    print(f\"Solving LP for {C: 4.1f} and {Nb_ineq: 6d} ineq\", end = \" \")\n",
    "    \n",
    "    if len(args) == 1:\n",
    "        start_time = time.time()\n",
    "        output = run_my_process(process_, f\"{key_index}\", f\"{nb_ineq}\", f\"{C}\")\n",
    "        total_seconds = time.time() - start_time\n",
    "    elif len(args) == 2:\n",
    "        start_time = time.time()\n",
    "        output = run_my_process(process_, f\"{key_index}\", f\"{nb_ineq}\", f\"{C_low}\", f\"{C_up}\")\n",
    "        total_seconds = time.time() - start_time\n",
    "        \n",
    "    time_delta = timedelta(seconds = total_seconds)\n",
    "    hours, remainder = divmod(time_delta.seconds, 3600)\n",
    "    minutes, seconds = divmod(remainder, 60)\n",
    "    time_str = f\"  Time: {hours} h {minutes} min {seconds} sec\\n\"\n",
    "    print(f\"({hours}h{minutes}m{seconds}s)\")\n",
    "    output.append(time_str)\n",
    "    output.append(f\"Nb Inequalities: {Nb_ineq}\\n\")  \n",
    "    \n",
    "    return output"
   ]
  },
  {
   "cell_type": "markdown",
   "id": "e0614ef0",
   "metadata": {},
   "source": [
    "### Algorithm 6: Heuristically recovering $\\mathbf{t}_0$"
   ]
  },
  {
   "cell_type": "code",
   "execution_count": null,
   "id": "4e402d32-15b2-4da8-8c75-194175107168",
   "metadata": {},
   "outputs": [],
   "source": [
    "# Here we set the list of radii \n",
    "List_C         = [pow(2, dilithium.D-1)/pow(2, i) for i in range(dilithium.D)]\n",
    "# Associated with each radius we set the corresponding number of inaqualities\n",
    "Nb_Inequations = [50000 for C_ in List_C]"
   ]
  },
  {
   "cell_type": "markdown",
   "id": "1e3cd615-a91b-4da6-9f2a-401e905b066a",
   "metadata": {},
   "source": [
    "For a list of radii and number of inequations, this part will:\n",
    "- produce the desired number of signatures and store them in: `Attack_t0/signs/Dilithium{dilithium.mode}/key{key_targeted}`\n",
    "- build the LP problems for each polynomial of $\\mathbf{t}_0$ and store it in: `Attack_t0/lps/Dilithium{dilithium.mode}/key{key_targeted}`\n",
    "- solve the LP problems for each polynomial of $\\mathbf{t}_0$\n",
    "- update the $\\mathbf{t}_0$  guess stored in: `Attack_t0/guess/Dilithium{dilithium.mode}/key{key_targeted}`\n",
    "- Repeat untill all the radius and inequations are collected\n",
    "- Display a sum up `.md` file and save it in: `Attack_t0/sum_ups/Dilithium{dilithium.mode}/key{key_targeted}`\n"
   ]
  },
  {
   "cell_type": "code",
   "execution_count": null,
   "id": "648aac43",
   "metadata": {},
   "outputs": [],
   "source": [
    "all_keys_results = []\n",
    "for key_targeted in range(NB_Keys_tested):\n",
    "    print(f\">>> Uncompressing t0 for key#{key_targeted}:\")\n",
    "    if Collect_signs:\n",
    "        print(f\"Signing {Nb_signs} random messages:\", end = \" \")\n",
    "        output = run_my_process(f\"{path_to_c}{sign_rule}\", f\"{key_targeted}\",f\"{Nb_signs}\")\n",
    "        print(u\"\\u2705\")\n",
    "    \n",
    "    # Opening corresponding pk/sk\n",
    "    if known_sk:\n",
    "        pk, sk = PK[key_targeted], SK[key_targeted]\n",
    "        _, Key, tr, s1, s2, t0 = dilithium.unpack_sk(sk)\n",
    "    else:\n",
    "        pk = PK[key_targeted]\n",
    "        \n",
    "    rho, t1 = dilithium.unpack_pk(pk)\n",
    "    Antt = dilithium.polyvec_matrix_expand(rho)\n",
    "    A = Antt2Aintt(Antt)\n",
    "    \n",
    "    key_results = []\n",
    "\n",
    "    t0_guess_file_path = f\"../Guess/Dilithium{dilithium.MODE}/key{key_targeted}/t0_guess_file.bin\"\n",
    "    os.makedirs(os.path.dirname(t0_guess_file_path), exist_ok = True)\n",
    "    \n",
    "    # We start with a guess with all the coeffs to 0\n",
    "    t0_guess = np.zeros((dilithium.K, dilithium.N)).astype(np.float64)\n",
    "    t0_guess_C = np.array(t0_guess).astype(np.float64)\n",
    "    with open(t0_guess_file_path, 'wb') as t0_guess_file:\n",
    "        t0_guess_file.write(t0_guess_C.tobytes())\n",
    "    \n",
    "    for iteration in range(len(List_C)):\n",
    "        C = List_C[iteration]\n",
    "        Nb_ineq = Nb_Inequations[iteration] \n",
    "        if iteration == 0:\n",
    "            output = build_solve_lp(f\"{path_to_c}{atk_rule}\", key_targeted, Nb_ineq, C-1, C)\n",
    "        else:\n",
    "            output = build_solve_lp(f\"{path_to_c}{atk_rule}\", key_targeted, Nb_ineq, C)\n",
    "        \n",
    "        if known_sk:\n",
    "            t0_guess_updated = np.fromfile(t0_guess_file_path, dtype=np.float64)\n",
    "            t0_guess_updated = t0_guess_updated.reshape((dilithium.K, dilithium.N))\n",
    "\n",
    "            ERROR = [[np.round(t0[i][j] - t0_guess_updated[i][j]) for j in range(dilithium.N)] for i in range(dilithium.K)]\n",
    "            norm_inf_error = np.linalg.norm(ERROR, axis = 1, ord = np.inf)\n",
    "            print(\"  Inf Norm between t0 and t0_found: \", norm_inf_error)\n",
    "\n",
    "            output.append(f\"Min error: {np.min(norm_inf_error)}\\n\")\n",
    "            output.append(f\"Max error: {np.max(norm_inf_error)}\\n\")         \n",
    "\n",
    "        key_results.append(output)\n",
    "\n",
    "    sum_up_file_path = f\"../Sum_ups/Dilithium{dilithium.MODE}/key{key_targeted}/results.md\"\n",
    "    temps_test, signs_test, mkdwn_test = format_results(key_results, include_sk = known_sk)\n",
    "    os.makedirs(os.path.dirname(sum_up_file_path), exist_ok = True)\n",
    "    with open(sum_up_file_path, \"w\") as sum_up_file:\n",
    "        sum_up_file.write(mkdwn_test)\n",
    "    all_keys_results.append(key_results)\n",
    "    display(Markdown(mkdwn_test))"
   ]
  }
 ],
 "metadata": {
  "kernelspec": {
   "display_name": "Python 3 (ipykernel)",
   "language": "python",
   "name": "python3"
  },
  "language_info": {
   "codemirror_mode": {
    "name": "ipython",
    "version": 3
   },
   "file_extension": ".py",
   "mimetype": "text/x-python",
   "name": "python",
   "nbconvert_exporter": "python",
   "pygments_lexer": "ipython3",
   "version": "3.11.2"
  }
 },
 "nbformat": 4,
 "nbformat_minor": 5
}
